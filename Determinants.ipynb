{
  "nbformat": 4,
  "nbformat_minor": 0,
  "metadata": {
    "colab": {
      "name": "Determinants.ipynb",
      "provenance": [],
      "authorship_tag": "ABX9TyOTjg73k5fmA19On9fMcj6P",
      "include_colab_link": true
    },
    "kernelspec": {
      "name": "python3",
      "display_name": "Python 3"
    },
    "language_info": {
      "name": "python"
    }
  },
  "cells": [
    {
      "cell_type": "markdown",
      "metadata": {
        "id": "view-in-github",
        "colab_type": "text"
      },
      "source": [
        "<a href=\"https://colab.research.google.com/github/SamBroberg/Linear_Algebra_Projects/blob/main/Determinants.ipynb\" target=\"_parent\"><img src=\"https://colab.research.google.com/assets/colab-badge.svg\" alt=\"Open In Colab\"/></a>"
      ]
    },
    {
      "cell_type": "code",
      "metadata": {
        "colab": {
          "base_uri": "https://localhost:8080/"
        },
        "id": "bCZLR593Th0-",
        "outputId": "4c40ecb8-6810-46d4-a45e-727f4747e41c"
      },
      "source": [
        "import matplotlib.pyplot as plt\n",
        "from sympy import Poly\n",
        "import sympy as sym\n",
        "import numpy as np\n",
        "from numpy import c_\n",
        "\n",
        "# We'll specify that x and t are variables:\n",
        "x, t = sym.symbols('x, t')\n",
        "\n",
        "ll = \"loaded\"\n",
        "print(ll)"
      ],
      "execution_count": null,
      "outputs": [
        {
          "output_type": "stream",
          "text": [
            "loaded\n"
          ],
          "name": "stdout"
        }
      ]
    },
    {
      "cell_type": "code",
      "metadata": {
        "colab": {
          "base_uri": "https://localhost:8080/"
        },
        "id": "MI2-aFakToAc",
        "outputId": "2e3935b1-3651-434f-b636-51bd8a834e3e"
      },
      "source": [
        "A = np.matrix([[3,2,3],\n",
        "              [-6,1,-10],\n",
        "              [-8,-9,-9]])\n",
        "A\n"
      ],
      "execution_count": null,
      "outputs": [
        {
          "output_type": "execute_result",
          "data": {
            "text/plain": [
              "matrix([[  3,   2,   3],\n",
              "        [ -6,   1, -10],\n",
              "        [ -8,  -9,  -9]])"
            ]
          },
          "metadata": {
            "tags": []
          },
          "execution_count": 2
        }
      ]
    },
    {
      "cell_type": "code",
      "metadata": {
        "colab": {
          "base_uri": "https://localhost:8080/"
        },
        "id": "d6CzOKRiToD6",
        "outputId": "5452014e-661a-4b38-c3a9-5e234f6c63d6"
      },
      "source": [
        "B = np.matrix([[1,-2,1],\n",
        "              [5,5,4],\n",
        "              [4,0,0]])\n",
        "B"
      ],
      "execution_count": null,
      "outputs": [
        {
          "output_type": "execute_result",
          "data": {
            "text/plain": [
              "matrix([[ 1, -2,  1],\n",
              "        [ 5,  5,  4],\n",
              "        [ 4,  0,  0]])"
            ]
          },
          "metadata": {
            "tags": []
          },
          "execution_count": 3
        }
      ]
    },
    {
      "cell_type": "code",
      "metadata": {
        "colab": {
          "base_uri": "https://localhost:8080/"
        },
        "id": "8a5zfBHdT8Wd",
        "outputId": "ea75df19-07b9-4d9e-f252-816705bc21db"
      },
      "source": [
        "C = np.matrix([[1,0,0],\n",
        "              [0,2,0],\n",
        "              [-3,-2,1]])\n",
        "C"
      ],
      "execution_count": null,
      "outputs": [
        {
          "output_type": "execute_result",
          "data": {
            "text/plain": [
              "matrix([[ 1,  0,  0],\n",
              "        [ 0,  2,  0],\n",
              "        [-3, -2,  1]])"
            ]
          },
          "metadata": {
            "tags": []
          },
          "execution_count": 4
        }
      ]
    },
    {
      "cell_type": "code",
      "metadata": {
        "colab": {
          "base_uri": "https://localhost:8080/"
        },
        "id": "DksxOZl4T8aR",
        "outputId": "76e78f7e-9d67-4d2c-c99c-1e9020166360"
      },
      "source": [
        "print(np.linalg.det(A))\n",
        "print(np.linalg.det(B))\n",
        "print(np.linalg.det(C))"
      ],
      "execution_count": null,
      "outputs": [
        {
          "output_type": "stream",
          "text": [
            "-58.999999999999964\n",
            "-51.999999999999986\n",
            "1.9999999999999998\n"
          ],
          "name": "stdout"
        }
      ]
    },
    {
      "cell_type": "code",
      "metadata": {
        "colab": {
          "base_uri": "https://localhost:8080/"
        },
        "id": "1aHfp6vkT8eP",
        "outputId": "b4ed6b02-b4bc-4f8b-8b62-b33734a105b9"
      },
      "source": [
        "AB = A * B\n",
        "BA = B * A\n",
        "print(AB)\n",
        "print()\n",
        "print(BA)"
      ],
      "execution_count": null,
      "outputs": [
        {
          "output_type": "stream",
          "text": [
            "[[ 25   4  11]\n",
            " [-41  17  -2]\n",
            " [-89 -29 -44]]\n",
            "\n",
            "[[  7  -9  14]\n",
            " [-47 -21 -71]\n",
            " [ 12   8  12]]\n"
          ],
          "name": "stdout"
        }
      ]
    },
    {
      "cell_type": "code",
      "metadata": {
        "colab": {
          "base_uri": "https://localhost:8080/"
        },
        "id": "amC5_ObFUvKg",
        "outputId": "12e01405-5a1e-45ec-d664-d603e17823c4"
      },
      "source": [
        "print('AB:',np.linalg.det(AB))\n",
        "print('BA:',np.linalg.det(BA))"
      ],
      "execution_count": null,
      "outputs": [
        {
          "output_type": "stream",
          "text": [
            "AB: 3067.9999999999973\n",
            "BA: 3067.9999999999973\n"
          ],
          "name": "stdout"
        }
      ]
    },
    {
      "cell_type": "code",
      "metadata": {
        "id": "l65su2faUvNo"
      },
      "source": [
        "def findeterminant(mat1,mat2,mat3):\n",
        "  print('A:',np.linalg.det(mat1))\n",
        "  print('B:',np.linalg.det(mat2))\n",
        "  print('C:',np.linalg.det(mat3))\n",
        "  AB = A * B\n",
        "  BA = B * A\n",
        "  AC = A * C\n",
        "  CA = C * A\n",
        "  CB = C * B\n",
        "  BC = B * C \n",
        "  print('AB:',np.linalg.det(AB))\n",
        "  print('BA:',np.linalg.det(BA))\n",
        "  print('AC:',np.linalg.det(AC))\n",
        "  print('CA:',np.linalg.det(CA))\n",
        "  print('BC:',np.linalg.det(BC))\n",
        "  print('CB:',np.linalg.det(CB))\n",
        "  print()\n",
        "  print('AB:',AB)\n",
        "  print('BA:',BA)\n",
        "  print('AC:',AC)\n",
        "  print('CA:',CA)\n",
        "  print('BC:',BC)\n",
        "  print('CB:',CB)"
      ],
      "execution_count": null,
      "outputs": []
    },
    {
      "cell_type": "code",
      "metadata": {
        "colab": {
          "base_uri": "https://localhost:8080/"
        },
        "id": "ApYa3DqMUvQq",
        "outputId": "abf28a21-2b6e-4dc2-bf38-605deab6dfce"
      },
      "source": [
        "findeterminant(A,B,C)"
      ],
      "execution_count": null,
      "outputs": [
        {
          "output_type": "stream",
          "text": [
            "A: -58.999999999999964\n",
            "B: -51.999999999999986\n",
            "C: 1.9999999999999998\n",
            "AB: 3067.9999999999973\n",
            "BA: 3067.9999999999973\n",
            "AC: -118.00000000000004\n",
            "CA: -118.00000000000004\n",
            "BC: -103.99999999999999\n",
            "CB: -104.00000000000007\n",
            "\n",
            "AB: [[ 25   4  11]\n",
            " [-41  17  -2]\n",
            " [-89 -29 -44]]\n",
            "BA: [[  7  -9  14]\n",
            " [-47 -21 -71]\n",
            " [ 12   8  12]]\n",
            "AC: [[ -6  -2   3]\n",
            " [ 24  22 -10]\n",
            " [ 19   0  -9]]\n",
            "CA: [[  3   2   3]\n",
            " [-12   2 -20]\n",
            " [ -5 -17   2]]\n",
            "BC: [[-2 -6  1]\n",
            " [-7  2  4]\n",
            " [ 4  0  0]]\n",
            "CB: [[  1  -2   1]\n",
            " [ 10  10   8]\n",
            " [ -9  -4 -11]]\n"
          ],
          "name": "stdout"
        }
      ]
    },
    {
      "cell_type": "code",
      "metadata": {
        "id": "DsOcsd9OT8hG"
      },
      "source": [
        "ABC = A*B*C\n",
        "ACB = A*C*B\n",
        "CBA = C*B*A"
      ],
      "execution_count": null,
      "outputs": []
    },
    {
      "cell_type": "code",
      "metadata": {
        "colab": {
          "base_uri": "https://localhost:8080/"
        },
        "id": "m24mim7jU6qc",
        "outputId": "1a6c7f4e-c3d7-49f6-e702-466b26fdca3a"
      },
      "source": [
        "print('ABC:',np.linalg.det(ABC))\n",
        "print('ACB:',np.linalg.det(ACB))\n",
        "print('CBA:',np.linalg.det(CBA))"
      ],
      "execution_count": null,
      "outputs": [
        {
          "output_type": "stream",
          "text": [
            "ABC: 6135.999999999995\n",
            "ACB: 6136.000000000006\n",
            "CBA: 6136.000000000006\n"
          ],
          "name": "stdout"
        }
      ]
    },
    {
      "cell_type": "code",
      "metadata": {
        "colab": {
          "base_uri": "https://localhost:8080/"
        },
        "id": "gL-FdBprU6tT",
        "outputId": "360aa81e-8937-4d28-a6a1-58716aaec537"
      },
      "source": [
        "A = np.matrix([[10,7],\n",
        "                [8,9]])\n",
        "A"
      ],
      "execution_count": null,
      "outputs": [
        {
          "output_type": "execute_result",
          "data": {
            "text/plain": [
              "matrix([[10,  7],\n",
              "        [ 8,  9]])"
            ]
          },
          "metadata": {
            "tags": []
          },
          "execution_count": 12
        }
      ]
    },
    {
      "cell_type": "code",
      "metadata": {
        "colab": {
          "base_uri": "https://localhost:8080/"
        },
        "id": "LUz5I6D2U6vv",
        "outputId": "b39c6dc2-0b70-45d0-dc52-65a10022c0fe"
      },
      "source": [
        "B = np.matrix([[-10,-1],\n",
        "                [-4,7]])\n",
        "B"
      ],
      "execution_count": null,
      "outputs": [
        {
          "output_type": "execute_result",
          "data": {
            "text/plain": [
              "matrix([[-10,  -1],\n",
              "        [ -4,   7]])"
            ]
          },
          "metadata": {
            "tags": []
          },
          "execution_count": 13
        }
      ]
    },
    {
      "cell_type": "code",
      "metadata": {
        "colab": {
          "base_uri": "https://localhost:8080/"
        },
        "id": "cPwfyGAkU-uu",
        "outputId": "d6393906-ac6c-4ca4-897b-acd8647943b6"
      },
      "source": [
        "C = np.matrix([[1,-3],\n",
        "                [7,7]])\n",
        "C"
      ],
      "execution_count": null,
      "outputs": [
        {
          "output_type": "execute_result",
          "data": {
            "text/plain": [
              "matrix([[ 1, -3],\n",
              "        [ 7,  7]])"
            ]
          },
          "metadata": {
            "tags": []
          },
          "execution_count": 14
        }
      ]
    },
    {
      "cell_type": "code",
      "metadata": {
        "colab": {
          "base_uri": "https://localhost:8080/"
        },
        "id": "nfhOjJUQU-y5",
        "outputId": "26999e4d-3fab-4386-a67f-e36c8ff489d5"
      },
      "source": [
        "findeterminant(A,B,C)"
      ],
      "execution_count": null,
      "outputs": [
        {
          "output_type": "stream",
          "text": [
            "A: 34.00000000000001\n",
            "B: -74.00000000000003\n",
            "C: 27.999999999999996\n",
            "AB: -2515.999999999999\n",
            "BA: -2516.0000000000014\n",
            "AC: 951.9999999999997\n",
            "CA: 951.9999999999997\n",
            "BC: -2071.9999999999995\n",
            "CB: -2071.9999999999995\n",
            "\n",
            "AB: [[-128   39]\n",
            " [-116   55]]\n",
            "BA: [[-108  -79]\n",
            " [  16   35]]\n",
            "AC: [[59 19]\n",
            " [71 39]]\n",
            "CA: [[-14 -20]\n",
            " [126 112]]\n",
            "BC: [[-17  23]\n",
            " [ 45  61]]\n",
            "CB: [[  2 -22]\n",
            " [-98  42]]\n"
          ],
          "name": "stdout"
        }
      ]
    },
    {
      "cell_type": "code",
      "metadata": {
        "id": "PDV6K0REU-2g"
      },
      "source": [
        "ABC = A*B*C\n",
        "ACB = A*C*B\n",
        "CBA = C*B*A"
      ],
      "execution_count": null,
      "outputs": []
    },
    {
      "cell_type": "code",
      "metadata": {
        "colab": {
          "base_uri": "https://localhost:8080/"
        },
        "id": "N6LXPdGCU-5O",
        "outputId": "63389024-9670-4b6b-e7b3-0cd70bdc018a"
      },
      "source": [
        "print('ABC:',np.linalg.det(ABC))\n",
        "print('ACB:',np.linalg.det(ACB))\n",
        "print('CBA:',np.linalg.det(CBA))\n"
      ],
      "execution_count": null,
      "outputs": [
        {
          "output_type": "stream",
          "text": [
            "ABC: -70447.99999999994\n",
            "ACB: -70447.99999999994\n",
            "CBA: -70447.99999999994\n"
          ],
          "name": "stdout"
        }
      ]
    },
    {
      "cell_type": "code",
      "metadata": {
        "id": "7P4w8RhWU6xT"
      },
      "source": [
        ""
      ],
      "execution_count": null,
      "outputs": []
    }
  ]
}