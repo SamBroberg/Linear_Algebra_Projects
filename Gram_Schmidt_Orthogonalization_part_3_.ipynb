{
  "nbformat": 4,
  "nbformat_minor": 0,
  "metadata": {
    "colab": {
      "name": "Gram-Schmidt Orthogonalization part_3 .ipynb",
      "provenance": [],
      "authorship_tag": "ABX9TyM2r+5Hwg5X2YGLT8tRy/l1",
      "include_colab_link": true
    },
    "kernelspec": {
      "name": "python3",
      "display_name": "Python 3"
    },
    "language_info": {
      "name": "python"
    }
  },
  "cells": [
    {
      "cell_type": "markdown",
      "metadata": {
        "id": "view-in-github",
        "colab_type": "text"
      },
      "source": [
        "<a href=\"https://colab.research.google.com/github/SamBroberg/Linear_Algebra_Projects/blob/main/Gram_Schmidt_Orthogonalization_part_3_.ipynb\" target=\"_parent\"><img src=\"https://colab.research.google.com/assets/colab-badge.svg\" alt=\"Open In Colab\"/></a>"
      ]
    },
    {
      "cell_type": "code",
      "metadata": {
        "id": "qWAOhO_YYSTe"
      },
      "source": [
        "import matplotlib.pyplot as plt\n",
        "from sympy import Poly\n",
        "import sympy as sym\n",
        "import numpy as np\n",
        "from numpy import c_\n",
        "\n",
        "# We'll specify that x and t are variables:\n",
        "x, t = sym.symbols('x, t')\n",
        "\n",
        "ll = \"loaded\""
      ],
      "execution_count": 2,
      "outputs": []
    },
    {
      "cell_type": "code",
      "metadata": {
        "id": "mqycZd-XYTIQ"
      },
      "source": [
        "r1 = [0,3,-3,0]\n",
        "r2 = [2,6,-2,2]\n",
        "r3 = [-2,1,-3,0]\n",
        "r4 = [2,-4,-2,-4]"
      ],
      "execution_count": 4,
      "outputs": []
    },
    {
      "cell_type": "code",
      "metadata": {
        "colab": {
          "base_uri": "https://localhost:8080/"
        },
        "id": "9G_eWOwFYTLx",
        "outputId": "a0ead8a2-3f1a-43ab-c76c-30ed3f2835fc"
      },
      "source": [
        "print(r1,r2,r3,r4)"
      ],
      "execution_count": 5,
      "outputs": [
        {
          "output_type": "stream",
          "text": [
            "[0, 3, -3, 0] [2, 6, -2, 2] [-2, 1, -3, 0] [2, -4, -2, -4]\n"
          ],
          "name": "stdout"
        }
      ]
    },
    {
      "cell_type": "code",
      "metadata": {
        "colab": {
          "base_uri": "https://localhost:8080/"
        },
        "id": "KTkHDfGAYTRB",
        "outputId": "d9a150cd-dc46-454e-e352-dbf52f07f62b"
      },
      "source": [
        "n1 = r1\n",
        "n1"
      ],
      "execution_count": 6,
      "outputs": [
        {
          "output_type": "execute_result",
          "data": {
            "text/plain": [
              "[0, 3, -3, 0]"
            ]
          },
          "metadata": {
            "tags": []
          },
          "execution_count": 6
        }
      ]
    },
    {
      "cell_type": "code",
      "metadata": {
        "colab": {
          "base_uri": "https://localhost:8080/"
        },
        "id": "DGApMZ9AYTTg",
        "outputId": "3f834159-ab63-460a-b206-473bc90e8c8b"
      },
      "source": [
        "#Finding the magnitude\n",
        "np.sqrt(np.dot(n1,n1))"
      ],
      "execution_count": 8,
      "outputs": [
        {
          "output_type": "execute_result",
          "data": {
            "text/plain": [
              "4.242640687119285"
            ]
          },
          "metadata": {
            "tags": []
          },
          "execution_count": 8
        }
      ]
    },
    {
      "cell_type": "code",
      "metadata": {
        "colab": {
          "base_uri": "https://localhost:8080/"
        },
        "id": "Bc9ssucXYw5G",
        "outputId": "bf56c0f5-e712-4ab6-8626-7d3f7fc8fe24"
      },
      "source": [
        "#create nice basis vector\n",
        "u1 = n1/np.sqrt(np.dot(n1,n1))\n",
        "u1"
      ],
      "execution_count": 9,
      "outputs": [
        {
          "output_type": "execute_result",
          "data": {
            "text/plain": [
              "array([ 0.        ,  0.70710678, -0.70710678,  0.        ])"
            ]
          },
          "metadata": {
            "tags": []
          },
          "execution_count": 9
        }
      ]
    },
    {
      "cell_type": "code",
      "metadata": {
        "colab": {
          "base_uri": "https://localhost:8080/"
        },
        "id": "Lh3Zc1y1Yw8N",
        "outputId": "2bee610e-1552-4f1b-f024-ddcebf705a88"
      },
      "source": [
        "# Check\n",
        "np.dot(u1,u1)"
      ],
      "execution_count": 10,
      "outputs": [
        {
          "output_type": "execute_result",
          "data": {
            "text/plain": [
              "1.0000000000000002"
            ]
          },
          "metadata": {
            "tags": []
          },
          "execution_count": 10
        }
      ]
    },
    {
      "cell_type": "code",
      "metadata": {
        "colab": {
          "base_uri": "https://localhost:8080/"
        },
        "id": "Qrz3r2S6Yw-u",
        "outputId": "26bcf88d-134f-4a55-84ce-cb2aec86da73"
      },
      "source": [
        "#Finding U1\n",
        "print('r1: ',r1)\n",
        "\n",
        "n1 = r1\n",
        "print('n1: ',n1)\n",
        "\n",
        "print('Magnitude:',np.sqrt(np.dot(n1,n1)))\n",
        "\n",
        "u1 = n1/np.sqrt(np.dot(n1,n1))\n",
        "print('U1: ',u1)\n",
        "\n",
        "#Checking to see if U1 and U1 are orthogonal\n",
        "print('u1 * u1: ',np.dot(u1,u1))"
      ],
      "execution_count": 11,
      "outputs": [
        {
          "output_type": "stream",
          "text": [
            "r1:  [0, 3, -3, 0]\n",
            "n1:  [0, 3, -3, 0]\n",
            "Magnitude: 4.242640687119285\n",
            "U1:  [ 0.          0.70710678 -0.70710678  0.        ]\n",
            "u1 * u1:  1.0000000000000002\n"
          ],
          "name": "stdout"
        }
      ]
    },
    {
      "cell_type": "code",
      "metadata": {
        "colab": {
          "base_uri": "https://localhost:8080/"
        },
        "id": "0Pz233BPYTWg",
        "outputId": "731532a3-f4ce-4a3b-b235-7f8cb9bdc4ae"
      },
      "source": [
        "#Finding U2\n",
        "print('r2:',r2)\n",
        "\n",
        "n2 = r2 - np.dot(r2,u1)*u1\n",
        "print('n2:',n2)\n",
        "\n",
        "print('Magnitude:',np.sqrt(np.dot(n2,n2)))\n",
        "\n",
        "u2 = n2/np.sqrt(np.dot(n2,n2))\n",
        "print('u2:',u2)\n",
        "\n",
        "#Checking to see if U1 and U4 are orthogonal\n",
        "print('u2 * u1: ',np.dot(u2,u1))\n",
        "print('u2 * u2: ',np.dot(u2,u2))"
      ],
      "execution_count": 14,
      "outputs": [
        {
          "output_type": "stream",
          "text": [
            "r2: [2, 6, -2, 2]\n",
            "n2: [2. 2. 2. 2.]\n",
            "Magnitude: 4.0\n",
            "u2: [0.5 0.5 0.5 0.5]\n",
            "u2 * u1:  -3.2354269956215097e-16\n",
            "u2 * u2:  1.0\n"
          ],
          "name": "stdout"
        }
      ]
    },
    {
      "cell_type": "code",
      "metadata": {
        "colab": {
          "base_uri": "https://localhost:8080/"
        },
        "id": "hsDOaaaoYTa8",
        "outputId": "f0ddd559-cc56-41d6-e2a0-be742cad0dd9"
      },
      "source": [
        "#Finding U3\n",
        "print('r3: ',r3)\n",
        "\n",
        "n3 = r3 - np.dot(r3,u1)*u1 - np.dot(r3,u2)*u2\n",
        "print('n3: ',n3)\n",
        "\n",
        "print('Magnitude:',np.sqrt(np.dot(n3,n3)))\n",
        "\n",
        "u3 = n3/np.sqrt(np.dot(n3,n3))\n",
        "print('u3:',u3)\n",
        "\n",
        "#Checking to see if U1 and U4 are orthogonal\n",
        "print('u3 * u1:',np.dot(u3,u1))\n",
        "print('u3 * u2:',np.dot(u3,u2))\n",
        "print('u3 * u3:',np.dot(u3,u3))"
      ],
      "execution_count": 15,
      "outputs": [
        {
          "output_type": "stream",
          "text": [
            "r3:  [-2, 1, -3, 0]\n",
            "n3:  [-1.00000000e+00 -4.44089210e-16  1.33226763e-15  1.00000000e+00]\n",
            "Magnitude: 1.4142135623730951\n",
            "u3: [-7.07106781e-01 -3.14018492e-16  9.42055475e-16  7.07106781e-01]\n",
            "u3 * u1: -8.881784197001252e-16\n",
            "u3 * u2: 6.106226635438361e-16\n",
            "u3 * u3: 0.9999999999999998\n"
          ],
          "name": "stdout"
        }
      ]
    },
    {
      "cell_type": "code",
      "metadata": {
        "colab": {
          "base_uri": "https://localhost:8080/"
        },
        "id": "1Y1_KfR3ZE6f",
        "outputId": "7d08abd2-76f8-4aec-996b-23c5fe366b84"
      },
      "source": [
        "#Finding U4\n",
        "print('This is r4:',r4)\n",
        "\n",
        "n4 = r4 - np.dot(r4,u1)*u1 - np.dot(r4,u2)*u2 - np.dot(r4,u3)*u3\n",
        "print('n4:',n4)\n",
        "\n",
        "print('Magnitude:',np.sqrt(np.dot(n4,n4)))\n",
        "\n",
        "u4 = n4/np.sqrt(np.dot(n4,n4))\n",
        "print('u4:',u4)\n",
        "\n",
        "#Checking to see if U1 and U4 are orthogonal\n",
        "print('u4 * u1:',np.dot(u4,u1))\n",
        "print('u4 * u2:',np.dot(u4,u2))\n",
        "print('u4 * u3:',np.dot(u4,u3))\n",
        "print('u4 * u4:',np.dot(u4,u4))"
      ],
      "execution_count": 16,
      "outputs": [
        {
          "output_type": "stream",
          "text": [
            "This is r4: [2, -4, -2, -4]\n",
            "n4: [ 1. -1. -1.  1.]\n",
            "Magnitude: 2.0000000000000004\n",
            "u4: [ 0.5 -0.5 -0.5  0.5]\n",
            "u4 * u1: -2.4257531988555737e-15\n",
            "u4 * u2: 1.1657341758564144e-15\n",
            "u4 * u3: 5.945620728339695e-17\n",
            "u4 * u4: 0.9999999999999999\n"
          ],
          "name": "stdout"
        }
      ]
    },
    {
      "cell_type": "code",
      "metadata": {
        "colab": {
          "base_uri": "https://localhost:8080/"
        },
        "id": "7D4DpqgLZE9F",
        "outputId": "ab34ba91-50d2-4d0f-dd5a-87e81c920068"
      },
      "source": [
        "# Checking to See if unit vectors are orthogonal\n",
        "\n",
        "print('u1 * u1: ',np.dot(u1,u1))\n",
        "\n",
        "print('u2 * u1: ',np.dot(u2,u1))\n",
        "print('u2 * u2: ',np.dot(u2,u2))\n",
        "\n",
        "print('u3 * u1: ',np.dot(u3,u1))\n",
        "print('u3 * u2: ',np.dot(u3,u2))\n",
        "print('u3 * u3: ',np.dot(u3,u3))\n",
        "\n",
        "print('u4 * u1: ',np.dot(u4,u1))\n",
        "print('u4 * u2: ',np.dot(u4,u2))\n",
        "print('u4 * u3: ',np.dot(u4,u3))\n",
        "print('u4 * u4: ',np.dot(u4,u4))"
      ],
      "execution_count": 17,
      "outputs": [
        {
          "output_type": "stream",
          "text": [
            "u1 * u1:  1.0000000000000002\n",
            "u2 * u1:  -3.2354269956215097e-16\n",
            "u2 * u2:  1.0\n",
            "u3 * u1:  -8.881784197001252e-16\n",
            "u3 * u2:  6.106226635438361e-16\n",
            "u3 * u3:  0.9999999999999998\n",
            "u4 * u1:  -2.4257531988555737e-15\n",
            "u4 * u2:  1.1657341758564144e-15\n",
            "u4 * u3:  5.945620728339695e-17\n",
            "u4 * u4:  0.9999999999999999\n"
          ],
          "name": "stdout"
        }
      ]
    },
    {
      "cell_type": "code",
      "metadata": {
        "colab": {
          "base_uri": "https://localhost:8080/"
        },
        "id": "MZ62WSKZZE_Q",
        "outputId": "9d430455-899f-41ac-c3d7-bc20abbf189b"
      },
      "source": [
        "# Finding Linear combinations\n",
        "v = [11,5,20,19]\n",
        "v"
      ],
      "execution_count": 18,
      "outputs": [
        {
          "output_type": "execute_result",
          "data": {
            "text/plain": [
              "[11, 5, 20, 19]"
            ]
          },
          "metadata": {
            "tags": []
          },
          "execution_count": 18
        }
      ]
    },
    {
      "cell_type": "code",
      "metadata": {
        "colab": {
          "base_uri": "https://localhost:8080/"
        },
        "id": "kcWI7EjPZFBb",
        "outputId": "6df6dbbf-ad4c-4d40-f4d7-26a534f1d5e5"
      },
      "source": [
        "lc1 = np.dot(u1,v)\n",
        "lc2 = np.dot(u2,v)\n",
        "lc3 = np.dot(u3,v)\n",
        "lc4 = np.dot(u4,v)\n",
        "print(lc1,lc2,lc3,lc4)"
      ],
      "execution_count": 19,
      "outputs": [
        {
          "output_type": "stream",
          "text": [
            "-10.606601717798213 27.500000000000004 5.656854249492407 2.5000000000000586\n"
          ],
          "name": "stdout"
        }
      ]
    },
    {
      "cell_type": "code",
      "metadata": {
        "colab": {
          "base_uri": "https://localhost:8080/"
        },
        "id": "ZEWvxxe7ZFDm",
        "outputId": "31359452-2804-4acb-9d1f-3c6f631b8ecd"
      },
      "source": [
        "(lc1*u1) + (lc2*u2) + (lc3*u3) + (lc4*u4)"
      ],
      "execution_count": 20,
      "outputs": [
        {
          "output_type": "execute_result",
          "data": {
            "text/plain": [
              "array([11.,  5., 20., 19.])"
            ]
          },
          "metadata": {
            "tags": []
          },
          "execution_count": 20
        }
      ]
    },
    {
      "cell_type": "code",
      "metadata": {
        "id": "llVx9eURZFFx"
      },
      "source": [
        ""
      ],
      "execution_count": null,
      "outputs": []
    }
  ]
}