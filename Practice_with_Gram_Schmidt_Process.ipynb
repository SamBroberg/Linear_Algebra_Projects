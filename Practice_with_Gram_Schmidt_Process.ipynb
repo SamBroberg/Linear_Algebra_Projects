{
  "nbformat": 4,
  "nbformat_minor": 0,
  "metadata": {
    "colab": {
      "name": "Practice with Gram Schmidt Process.ipynb",
      "provenance": [],
      "include_colab_link": true
    },
    "kernelspec": {
      "name": "python3",
      "display_name": "Python 3"
    }
  },
  "cells": [
    {
      "cell_type": "markdown",
      "metadata": {
        "id": "view-in-github",
        "colab_type": "text"
      },
      "source": [
        "<a href=\"https://colab.research.google.com/github/SamBroberg/Linear_Algebra_Projects/blob/main/Practice_with_Gram_Schmidt_Process.ipynb\" target=\"_parent\"><img src=\"https://colab.research.google.com/assets/colab-badge.svg\" alt=\"Open In Colab\"/></a>"
      ]
    },
    {
      "cell_type": "code",
      "metadata": {
        "id": "TXMv3l0X-SNN"
      },
      "source": [
        "# import the numpy library....\n",
        "\n",
        "import matplotlib.pyplot as plt\n",
        "from sympy import Poly\n",
        "import sympy as sym\n",
        "import numpy as np\n",
        "from numpy import c_\n",
        "\n",
        "# We'll specify that x and t are variables:\n",
        "x, t = sym.symbols('x, t')\n",
        "\n",
        "ll = \"loaded\""
      ],
      "execution_count": 1,
      "outputs": []
    },
    {
      "cell_type": "code",
      "metadata": {
        "id": "SLPvYqM4-ogb",
        "colab": {
          "base_uri": "https://localhost:8080/"
        },
        "outputId": "3e316574-e1b4-4b85-840e-c804a0194cc8"
      },
      "source": [
        "#  How do I do a dot product?\n",
        "np.dot([ 1, 2], [ 3, 4])\n",
        "\n",
        "# How do I find the magnitude in np?\n",
        "np.sqrt(np.dot([1,2],[1,2]))"
      ],
      "execution_count": 2,
      "outputs": [
        {
          "output_type": "execute_result",
          "data": {
            "text/plain": [
              "2.23606797749979"
            ]
          },
          "metadata": {
            "tags": []
          },
          "execution_count": 2
        }
      ]
    },
    {
      "cell_type": "code",
      "metadata": {
        "id": "QudEaC_f-wxD",
        "colab": {
          "base_uri": "https://localhost:8080/"
        },
        "outputId": "09db2528-890f-46c8-8cb1-cc0287e85d11"
      },
      "source": [
        "#  Define the original vectors:\n",
        "\n",
        "r1 = [ 3, 0, 3, 0 ]\n",
        "r2 = [ 3, 2, 3, 3]\n",
        "r3 = [ (-7), (-4), (-5), (-6)]\n",
        "r4 = [ (-7), (-3), (-11), 2]\n",
        "\n",
        "# Look at r1:\n",
        "r4\n"
      ],
      "execution_count": 4,
      "outputs": [
        {
          "output_type": "execute_result",
          "data": {
            "text/plain": [
              "[-7, -3, -11, 2]"
            ]
          },
          "metadata": {
            "tags": []
          },
          "execution_count": 4
        }
      ]
    },
    {
      "cell_type": "code",
      "metadata": {
        "id": "RyVRQzxU_Hlr",
        "colab": {
          "base_uri": "https://localhost:8080/"
        },
        "outputId": "3ee4ba3d-3cb3-4e57-b9d8-4d299b1926a0"
      },
      "source": [
        "#  Find the first nice basis vector u1:\n",
        "\n",
        "# 1:  Pick a new vector\n",
        "r1\n",
        "\n",
        "# 2:  Subtract the projection of r1 onto the nice basis  u1, u2, u3...\n",
        "#     and save this as a temp vector n1\n",
        "n1 = r1\n",
        "n1\n",
        "\n",
        "# 3:  Find the magnitude of n1\n",
        "np.sqrt(np.dot(n1, n1))\n",
        "\n",
        "# 4:  Create the nice basis vector u1 = 1/ | n1 |  * n1\n",
        "u1 = n1 / np.sqrt(np.dot(n1,n1))\n",
        "u1\n"
      ],
      "execution_count": 5,
      "outputs": [
        {
          "output_type": "execute_result",
          "data": {
            "text/plain": [
              "array([0.70710678, 0.        , 0.70710678, 0.        ])"
            ]
          },
          "metadata": {
            "tags": []
          },
          "execution_count": 5
        }
      ]
    },
    {
      "cell_type": "code",
      "metadata": {
        "id": "u9CfZIpP_v6W",
        "colab": {
          "base_uri": "https://localhost:8080/"
        },
        "outputId": "d5b28af0-fc8a-4c67-d8d3-114bc07f25d7"
      },
      "source": [
        "# Check that u1 has magnitude 1:\n",
        "np.dot(u1, u1)"
      ],
      "execution_count": 6,
      "outputs": [
        {
          "output_type": "execute_result",
          "data": {
            "text/plain": [
              "1.0000000000000002"
            ]
          },
          "metadata": {
            "tags": []
          },
          "execution_count": 6
        }
      ]
    },
    {
      "cell_type": "code",
      "metadata": {
        "id": "7vvz8pFVAYqu",
        "colab": {
          "base_uri": "https://localhost:8080/"
        },
        "outputId": "38d5fc9d-1729-4ff2-a0d0-68ec4138140a"
      },
      "source": [
        "#  Find the second nice basis vector u2:\n",
        "\n",
        "# 1:  Pick a new vector\n",
        "r2\n",
        "\n",
        "# 2:  Subtract the projection of r2 onto the nice basis  u1, u2, u3...\n",
        "#     and save this as a temp vector n2\n",
        "n2 = r2 - np.dot(r2, u1) * u1\n",
        "n2\n",
        "\n",
        "# 3:  Find the magnitude of n2\n",
        "np.sqrt(np.dot(n2, n2))\n",
        "\n",
        "# 4:  Create the nice basis vector u2 = 1/ | n2 |  * n2\n",
        "u2 = n2 / np.sqrt(np.dot(n2,n2))\n",
        "u2"
      ],
      "execution_count": 7,
      "outputs": [
        {
          "output_type": "execute_result",
          "data": {
            "text/plain": [
              "array([-1.23168186e-16,  5.54700196e-01, -1.23168186e-16,  8.32050294e-01])"
            ]
          },
          "metadata": {
            "tags": []
          },
          "execution_count": 7
        }
      ]
    },
    {
      "cell_type": "code",
      "metadata": {
        "id": "E8MSoEgLApb2",
        "colab": {
          "base_uri": "https://localhost:8080/"
        },
        "outputId": "4689b20e-3d91-41ef-ab55-4db4ca4f350e"
      },
      "source": [
        "#  Check that u1 and u2 are orthogonal:\n",
        "np.dot(u1, u2)\n",
        "\n",
        "# Check that u2 has magnitude 1:\n",
        "np.dot(u2, u2)"
      ],
      "execution_count": 8,
      "outputs": [
        {
          "output_type": "execute_result",
          "data": {
            "text/plain": [
              "1.0"
            ]
          },
          "metadata": {
            "tags": []
          },
          "execution_count": 8
        }
      ]
    },
    {
      "cell_type": "code",
      "metadata": {
        "id": "Q5qfh3DBA6aG",
        "colab": {
          "base_uri": "https://localhost:8080/"
        },
        "outputId": "e84c74ae-84b6-4559-c63d-ad6e8f7809d6"
      },
      "source": [
        "# Find the third nice basis vector u3:\n",
        "\n",
        "# 1:  Pick a new vector\n",
        "r3\n",
        "\n",
        "# 2:  Subtract the projection of r3 onto the nice basis  u1, u2, ...\n",
        "#     and save this as a temp vector n3\n",
        "n3 = r3 - np.dot(r3, u1) * u1 - np.dot(r3, u2) * u2\n",
        "n3\n",
        "\n",
        "# 3:  Find the magnitude of n2\n",
        "np.sqrt(np.dot(n3, n3))\n",
        "\n",
        "# 4:  Create the nice basis vector u3 = 1/ | n3 |  * n3\n",
        "u3 = n3 / np.sqrt(np.dot(n3,n3))\n",
        "u3"
      ],
      "execution_count": 9,
      "outputs": [
        {
          "output_type": "execute_result",
          "data": {
            "text/plain": [
              "array([-7.07106781e-01, -3.14018492e-16,  7.07106781e-01, -6.28036983e-16])"
            ]
          },
          "metadata": {
            "tags": []
          },
          "execution_count": 9
        }
      ]
    },
    {
      "cell_type": "code",
      "metadata": {
        "id": "OS6-dBU7BO1m",
        "colab": {
          "base_uri": "https://localhost:8080/"
        },
        "outputId": "e40e239e-fb54-4760-b6f3-8726434a3bfd"
      },
      "source": [
        "#  Check that u3 is orthogonal to u1 and u2\n",
        "print(np.dot(u1, u3))\n",
        "print(np.dot(u2, u3))\n",
        "print(np.dot(u3,u3))"
      ],
      "execution_count": 10,
      "outputs": [
        {
          "output_type": "stream",
          "text": [
            "-1.0146536357569526e-17\n",
            "-6.967444759389139e-16\n",
            "0.9999999999999998\n"
          ],
          "name": "stdout"
        }
      ]
    },
    {
      "cell_type": "code",
      "metadata": {
        "id": "8MM-zytTBhfm",
        "colab": {
          "base_uri": "https://localhost:8080/"
        },
        "outputId": "69600a1d-80ed-4da4-c261-ada1a3120713"
      },
      "source": [
        "# Find the third nice basis vector u4:\n",
        "\n",
        "# 1:  Pick a new vector\n",
        "r4\n",
        "\n",
        "# 2:  Subtract the projection of r4 onto the nice basis  u1, u2, u3 ...\n",
        "#     and save this as a temp vector n4\n",
        "n4 = r4 - np.dot(r4, u1) * u1 - np.dot(r4, u2) * u2 - np.dot(r4, u3) * u3\n",
        "n4\n",
        "\n",
        "# 3:  Find the magnitude of n4\n",
        "np.sqrt(np.dot(n4, n4))\n",
        "\n",
        "# 4:  Create the nice basis vector u4 = 1/ | n4 |  * n4\n",
        "u4 = n4 / np.sqrt(np.dot(n4,n4))\n",
        "u4"
      ],
      "execution_count": 11,
      "outputs": [
        {
          "output_type": "execute_result",
          "data": {
            "text/plain": [
              "array([-1.23168186e-16, -8.32050294e-01,  1.23168186e-16,  5.54700196e-01])"
            ]
          },
          "metadata": {
            "tags": []
          },
          "execution_count": 11
        }
      ]
    },
    {
      "cell_type": "code",
      "metadata": {
        "id": "-YH83yi_B3TW",
        "colab": {
          "base_uri": "https://localhost:8080/"
        },
        "outputId": "b74e8a25-2171-4463-aa2f-e27404c8c1c6"
      },
      "source": [
        "# Check that u4 is orthogonal to u1, u2, and u3\n",
        "# and check that |u4| = 1\n",
        "print(np.dot(u4, u1))\n",
        "print(np.dot(u4, u2))\n",
        "print(np.dot(u4, u3))\n",
        "print(np.dot(u4, u4))\n"
      ],
      "execution_count": 12,
      "outputs": [
        {
          "output_type": "stream",
          "text": [
            "4.3370130851795835e-33\n",
            "-1.203390859898517e-15\n",
            "8.709305949236507e-17\n",
            "1.0000000000000002\n"
          ],
          "name": "stdout"
        }
      ]
    },
    {
      "cell_type": "code",
      "metadata": {
        "id": "5E1Mx7OOCPi_",
        "outputId": "9aaebd29-1ace-4cdf-ac0d-d363305c40e1",
        "colab": {
          "base_uri": "https://localhost:8080/"
        }
      },
      "source": [
        "print(u1)\n",
        "print(u2)\n",
        "print(u3)\n",
        "print(u4)"
      ],
      "execution_count": 15,
      "outputs": [
        {
          "output_type": "stream",
          "text": [
            "[0.70710678 0.         0.70710678 0.        ]\n",
            "[-1.23168186e-16  5.54700196e-01 -1.23168186e-16  8.32050294e-01]\n",
            "[-7.07106781e-01 -3.14018492e-16  7.07106781e-01 -6.28036983e-16]\n",
            "[-1.23168186e-16 -8.32050294e-01  1.23168186e-16  5.54700196e-01]\n"
          ],
          "name": "stdout"
        }
      ]
    },
    {
      "cell_type": "code",
      "metadata": {
        "id": "UcNqgcNC4Jy9"
      },
      "source": [
        ""
      ],
      "execution_count": 17,
      "outputs": []
    }
  ]
}