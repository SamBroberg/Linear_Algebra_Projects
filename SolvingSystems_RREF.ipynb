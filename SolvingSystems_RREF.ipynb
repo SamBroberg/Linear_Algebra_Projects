import numpy as np
from numpy import c_

ll = "loaded"
