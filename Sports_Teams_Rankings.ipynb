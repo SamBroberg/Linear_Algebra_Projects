{
  "nbformat": 4,
  "nbformat_minor": 0,
  "metadata": {
    "colab": {
      "name": "Sports Teams Rankings.ipynb",
      "provenance": [],
      "include_colab_link": true
    },
    "kernelspec": {
      "name": "python3",
      "display_name": "Python 3"
    }
  },
  "cells": [
    {
      "cell_type": "markdown",
      "metadata": {
        "id": "view-in-github",
        "colab_type": "text"
      },
      "source": [
        "<a href=\"https://colab.research.google.com/github/SamBroberg/Linear_Algebra_Projects/blob/main/Sports_Teams_Rankings.ipynb\" target=\"_parent\"><img src=\"https://colab.research.google.com/assets/colab-badge.svg\" alt=\"Open In Colab\"/></a>"
      ]
    },
    {
      "cell_type": "markdown",
      "metadata": {
        "id": "TwGBRAD9R6W4"
      },
      "source": [
        "# Load the preliminary code"
      ]
    },
    {
      "cell_type": "code",
      "metadata": {
        "id": "NaP8xyCfRrUg"
      },
      "source": [
        "import matplotlib.pyplot as plt\n",
        "from sympy import Poly\n",
        "import sympy as sym\n",
        "import numpy as np\n",
        "from numpy import c_\n",
        "\n",
        "# We'll specify that x and t are variables:\n",
        "x, t = sym.symbols('x, t')\n",
        "\n",
        "ll = \"loaded\""
      ],
      "execution_count": 1,
      "outputs": []
    },
    {
      "cell_type": "code",
      "metadata": {
        "id": "CANB9fuMRyBP",
        "colab": {
          "base_uri": "https://localhost:8080/"
        },
        "outputId": "f8711e68-6fca-449f-b1fc-88e8b53be053"
      },
      "source": [
        "lll = \" correctly!\"\n",
        "\n",
        "def rref(matrix):\n",
        "    A = np.array(matrix, dtype=np.float64)\n",
        "    \n",
        "    r = 0 #row\n",
        "    c = 0 #column\n",
        "\n",
        "    (maxr, maxc) = A.shape\n",
        "\n",
        "    prev_row_pivot = -1   # The previous row with a leading term:\n",
        "    tmp_pivot_row = -1\n",
        "    this_pivot_row = -1\n",
        "\n",
        "    for c in range(maxc):  # go through each column\n",
        "      tmp_pivot_row = -1  # reset the tmp pivot row\n",
        "      this_pivot_row = -1  # reset this pivot row\n",
        "      for r in range(maxr):  # Find the leading term in this column below prev_row_pivot\n",
        "        if ((r > prev_row_pivot) and (A[r][c] != 0.0)):\n",
        "          tmp_pivot_row = r  # find the new pivot row\n",
        "      if (tmp_pivot_row > -1):  # we found a candidate for the leading term:\n",
        "        #swap row this_pivot_row with (prev_row_pivot + 1)\n",
        "        A[[tmp_pivot_row, prev_row_pivot+1]] = A[[prev_row_pivot + 1, tmp_pivot_row]]\n",
        "        #set this_pivot_row to prev_row_pivot+1\n",
        "        this_pivot_row = prev_row_pivot + 1\n",
        "        #Now, normalize the row based on the pivot value:\n",
        "        A[ this_pivot_row ] = A[ this_pivot_row ] / A[ this_pivot_row ][c]\n",
        "        #Then, use this row to force 0's above and below the pivot entry:\n",
        "        #subtract multiples of of the this_pivot_row row from the others\n",
        "        for r_ in range(len(A)):\n",
        "            if r_ != this_pivot_row:\n",
        "                A[r_] = A[r_] - A[this_pivot_row] * A[r_][c] / A[this_pivot_row][c]\n",
        "        prev_row_pivot = this_pivot_row\n",
        "    return A   \n",
        "\n",
        "\n",
        "def is_singular(matrix):\n",
        "  singular = True\n",
        "  notsingular = False\n",
        "\n",
        "  (mr, mc) = matrix.shape\n",
        "  \n",
        "  return_value = notsingular\n",
        "  if (mc - np.linalg.linalg.matrix_rank(matrix) > 0) :\n",
        "    return_value = singular\n",
        "  return return_value\n",
        " \n",
        "    \n",
        "    \n",
        "\n",
        "print(\">> The page \", ll, lll)"
      ],
      "execution_count": 2,
      "outputs": [
        {
          "output_type": "stream",
          "text": [
            ">> The page  loaded  correctly!\n"
          ],
          "name": "stdout"
        }
      ]
    },
    {
      "cell_type": "markdown",
      "metadata": {
        "id": "dCB31bhvTulU"
      },
      "source": [
        "# Ranking Teams based on games\n",
        "\n",
        "From our packet, we saw there were five games:\n",
        "\n",
        "Home  | Away\n",
        "------|------\n",
        "Winona State 16 | Sioux Falls 15\n",
        "Winona State 34 | Augustana 20\n",
        "Sioux Falls 51  | Augustana 13\n",
        "Duluth 28       |  Augustana 17\n",
        "Winona State 17 | Duluth 37\n",
        "\n",
        "Let's encode this system into a matrix.\n",
        "\n",
        "The unknown rankings are $r_w, r_s, r_a, r_d$.\n",
        "\n",
        "The system looks like $M \\vec{x} = \\vec{b}$, or\n",
        "\n",
        "$$\n",
        "\\left( \\begin{array}{cccc} 1 & -1 & 0 & 0 \\\\ 1 & 0 & -1 & 0 \\\\ 0 & 1 & -1 & 0 \\\\ 0 & 0 & -1 & 1 \\\\ -1 & 0  & 0 & 1 \\\\ \\end{array} \\right) \\, \\left( \\begin{array}{c} r_w \\\\ r_s \\\\ r_a \\\\ r_d \\\\ \\end{array} \\right) = \\left( \\begin{array}{c} 1 \\\\ 14 \\\\ 38 \\\\ 11 \\\\ 20 \\\\ \\end{array} \\right)$$\n",
        "\n",
        "We'll solve this system using least squares \n",
        "$$M^T I M \\vec{x} = M^T I \\vec{b} $$\n",
        "\n",
        "$$ \\vec{x} = \\left( M^T I M  \\right)^{-1} M^T I \\vec{b} $$\n",
        "\n",
        "\n",
        "\n",
        "\n"
      ]
    },
    {
      "cell_type": "code",
      "metadata": {
        "id": "zZOH_e5mViMs",
        "colab": {
          "base_uri": "https://localhost:8080/"
        },
        "outputId": "6cb43f6f-89c9-49cb-a537-a030fd27e347"
      },
      "source": [
        "# create the matrix:\n",
        "M = np.matrix([[1, -1, 0, 0],\n",
        "               [1, 0, -1, 0],\n",
        "               [0, 1, -1, 0],\n",
        "               [0, 0, -1, 1],\n",
        "               [-1, 0, 0, 1]])\n",
        "\n",
        "\n",
        "# create the vector for the right hand side:\n",
        "pts = np.matrix([[1], [14], [38], [11], [20]])\n",
        " \n",
        "#Make sure the system looks appropriate:\n",
        "print(np.c_[M,pts])"
      ],
      "execution_count": 3,
      "outputs": [
        {
          "output_type": "stream",
          "text": [
            "[[ 1 -1  0  0  1]\n",
            " [ 1  0 -1  0 14]\n",
            " [ 0  1 -1  0 38]\n",
            " [ 0  0 -1  1 11]\n",
            " [-1  0  0  1 20]]\n"
          ],
          "name": "stdout"
        }
      ]
    },
    {
      "cell_type": "code",
      "metadata": {
        "id": "s_r-ljCGWB18",
        "colab": {
          "base_uri": "https://localhost:8080/"
        },
        "outputId": "a8f78c9c-0439-4d5b-c25a-68dc0c1f788b"
      },
      "source": [
        "# Generate the transpose of M:\n",
        "MT = M.transpose()\n",
        "\n",
        "print(\"The Transpose of M is:\")\n",
        "print(MT)\n",
        "\n",
        "# and find MT*M and MT*pts:\n",
        "print(\"\\n\")\n",
        "print(\"MT * M is: \")\n",
        "MTM = MT * M\n",
        "print(MTM)\n",
        "\n",
        "print(\"\\n\")\n",
        "print(\"MT * pts is:\")\n",
        "MTpts = MT * pts\n",
        "print(MTpts)\n"
      ],
      "execution_count": 4,
      "outputs": [
        {
          "output_type": "stream",
          "text": [
            "The Transpose of M is:\n",
            "[[ 1  1  0  0 -1]\n",
            " [-1  0  1  0  0]\n",
            " [ 0 -1 -1 -1  0]\n",
            " [ 0  0  0  1  1]]\n",
            "\n",
            "\n",
            "MT * M is: \n",
            "[[ 3 -1 -1 -1]\n",
            " [-1  2 -1  0]\n",
            " [-1 -1  3 -1]\n",
            " [-1  0 -1  2]]\n",
            "\n",
            "\n",
            "MT * pts is:\n",
            "[[ -5]\n",
            " [ 37]\n",
            " [-63]\n",
            " [ 31]]\n"
          ],
          "name": "stdout"
        }
      ]
    },
    {
      "cell_type": "markdown",
      "metadata": {
        "id": "x38H0uPwbhpF"
      },
      "source": [
        "If $M^T M$ has an inverse, then we can use it.  But, if $M^T M$ is singular, then it doesn't have an inverse.  In this situation, we need to replace every entry in one row (say the bottom row) of $M^T M$ and $M^T \\vec{pts}$ with 1's.  (This knocks the system out of *not* having an inverse, so it will now have an inverse.)"
      ]
    },
    {
      "cell_type": "code",
      "metadata": {
        "id": "1ebWW4rZaopa",
        "colab": {
          "base_uri": "https://localhost:8080/"
        },
        "outputId": "918d7d36-b4f4-4412-d19f-269fed66f7d6"
      },
      "source": [
        "#  Check if MTM is singular\n",
        "is_singular(MT*M)"
      ],
      "execution_count": 5,
      "outputs": [
        {
          "output_type": "execute_result",
          "data": {
            "text/plain": [
              "True"
            ]
          },
          "metadata": {
            "tags": []
          },
          "execution_count": 5
        }
      ]
    },
    {
      "cell_type": "code",
      "metadata": {
        "id": "Hs_ZR78AbziT",
        "colab": {
          "base_uri": "https://localhost:8080/"
        },
        "outputId": "0060d2f2-2f1a-46b3-9d7d-cfe4d4dc7477"
      },
      "source": [
        "# If MTM is singular, then adjust one row of MTM and MT pts to be just 1's:\n",
        "\n",
        "#MTM[3] is the entire 4th row of MTM, \n",
        "#so MTM[3] = 1 will put 1's in MTM's 4th row.\n",
        "\n",
        "MTM[3] = 1\n",
        "MTpts[3] = 1\n",
        "\n",
        "print(\"MTM is now: \")\n",
        "print(MTM)\n",
        "\n",
        "print(\"and MTpts is now:\")\n",
        "print(MTpts)\n",
        "\n",
        "print(\"Is our modified MTM singular?\")\n",
        "is_singular(MTM)"
      ],
      "execution_count": 6,
      "outputs": [
        {
          "output_type": "stream",
          "text": [
            "MTM is now: \n",
            "[[ 3 -1 -1 -1]\n",
            " [-1  2 -1  0]\n",
            " [-1 -1  3 -1]\n",
            " [ 1  1  1  1]]\n",
            "and MTpts is now:\n",
            "[[ -5]\n",
            " [ 37]\n",
            " [-63]\n",
            " [  1]]\n",
            "Is our modified MTM singular?\n"
          ],
          "name": "stdout"
        },
        {
          "output_type": "execute_result",
          "data": {
            "text/plain": [
              "False"
            ]
          },
          "metadata": {
            "tags": []
          },
          "execution_count": 6
        }
      ]
    },
    {
      "cell_type": "code",
      "metadata": {
        "id": "48WK4ZH7WRxH",
        "colab": {
          "base_uri": "https://localhost:8080/"
        },
        "outputId": "0da2ec3e-506a-41e6-b5ba-dd23d196f476"
      },
      "source": [
        "#Find our solution using the inverse of MTM:\n",
        "\n",
        "#First, find the inverse of MTM:\n",
        "MTMI = np.linalg.inv(MTM)\n",
        "\n",
        "print(\"The inverse of MTM is:\")\n",
        "print(MTMI)\n",
        "\n",
        "#Now, use the inverse of MTM to solve for the rankings:\n",
        "\n",
        "print(\"\\n\")\n",
        "print(\"The solution are rankings:\")\n",
        "MTMI * MTpts"
      ],
      "execution_count": 7,
      "outputs": [
        {
          "output_type": "stream",
          "text": [
            "The inverse of MTM is:\n",
            "[[ 2.50000000e-01  1.85037171e-17  1.85037171e-17  2.50000000e-01]\n",
            " [ 1.25000000e-01  5.00000000e-01  1.25000000e-01  2.50000000e-01]\n",
            " [-1.38777878e-17 -2.77555756e-17  2.50000000e-01  2.50000000e-01]\n",
            " [-3.75000000e-01 -5.00000000e-01 -3.75000000e-01  2.50000000e-01]]\n",
            "\n",
            "\n",
            "The solution are rankings:\n"
          ],
          "name": "stdout"
        },
        {
          "output_type": "execute_result",
          "data": {
            "text/plain": [
              "matrix([[ -1.  ],\n",
              "        [ 10.25],\n",
              "        [-15.5 ],\n",
              "        [  7.25]])"
            ]
          },
          "metadata": {
            "tags": []
          },
          "execution_count": 7
        }
      ]
    },
    {
      "cell_type": "markdown",
      "metadata": {
        "id": "YOTdLT4-R-1h"
      },
      "source": [
        "#  Game Data  - Fall Sports\n",
        "\n",
        "Find the game data for the four teams in the NFC North and NFC South.\n",
        "\n",
        "The teams are:\n",
        "\n",
        "* **NFC North:**  Green Bay Packers, Chicago Bears, Detroit Lions, Minnesota Vikings\n",
        "* **NFC South:**  Atlanta Falcons, Carolina Panthers, New Orleans Saints, Tampa Bay Buccaneers\n",
        "\n",
        "\n",
        "It may be helpful to do a google search to find the data.\n",
        "\n",
        "Be sure to create your matrix on the handout, then enter the data for the system below.\n",
        "\n",
        "# Game Data - Spring Sports\n",
        "\n",
        "Find the game data for the seven teams in the Western Division for Men's Big Ten Basketball.\n",
        "\n",
        "**The teams:**  Wisconsin, Minnesota, Iowa, Illinois, Nebraska, Purdue, and Northewstern.\n",
        "\n",
        "I've provided **most** of the data, but you have to do a Google search to find the scores for the last two teams.\n",
        "\n",
        "Be sure to create your matrix on the handout, then enter the data for the system below.\n"
      ]
    },
    {
      "cell_type": "code",
      "metadata": {
        "id": "RrMkbXIC5v_X",
        "colab": {
          "base_uri": "https://localhost:8080/"
        },
        "outputId": "5fb48585-8fd2-47c8-bb12-06ddf0f74fba"
      },
      "source": [
        "# create the matrix:\n",
        "#M = np.matrix([[1, -1, 0, 0],\n",
        "#               [1, 0, -1, 0],\n",
        "#               [0, 1, -1, 0],\n",
        "#               [0, 0, -1, 1],\n",
        "#               [-1, 0, 0, 1]])\n",
        "\n",
        "M = np.matrix([[1, 0, 0, 0, (-1), 0, 0],\n",
        "               [1, (-1), 0, 0 ,0 ,0 ,0],\n",
        "               [1, 0, 0, 0, 0, 0, (-1)],\n",
        "               [(-1), 0, 0, 1, 0, 0, 0],\n",
        "               [1, 0, 0, 0, (-1), 0, 0],\n",
        "               [(-1), 0, 1, 0, 0, 0, 0],\n",
        "               [1, 0, 0, 1, 0, 0, (-1)],\n",
        "               [(-1), 0, 0, 1, 0, 0, 0],\n",
        "               [(-1), 0, 0, 0, 0, 1, 0],\n",
        "               [(-1), 0, 1, 0, 0, 0, 0],\n",
        "               [0, (-1), 0, 1, 0, 0, 0],\n",
        "               [0, 1, (-1), 0, 0, 0, 0],\n",
        "               [0, (-1), 1, 0, 0, 0, 0],\n",
        "               [0, (-1), 0, 0, 0, 1, 0],\n",
        "               [0, 1, 0, 0, (-1), 0, 0],\n",
        "               [0, 1, 0, 0, 0, (-1), 0],\n",
        "               [0, (-1), 0, 1, 0, 0, 0],\n",
        "               [0, (-1), 0, 0, 0, 0, 1],\n",
        "               [0, (-1), 0, 0, 1, 0, 0],\n",
        "               [0, 0, 1, 0, 0, (-1), 0],\n",
        "               [0, 0, 1, 0, 0, 0, (-1)],\n",
        "               [0, 0, 1, 0, 0, 0, (-1)],\n",
        "               [0, 0, (-1), 1, 0, 0, 0],\n",
        "               [0, 0, 1, 0, (-1), 0, 0],\n",
        "               [0, 0, 0, 1, 0, (-1), 0],\n",
        "               [0, 0, 0, 1, 0, 0, (-1)],\n",
        "               [0, 0, 0, 1, (-1), 0, 0],\n",
        "               [0, 0, 0, 1, 0, 0, (-1)],\n",
        "               [0, 0, 0, 1, (-1), 0, 0],\n",
        "               [0, 0, 0, 0, (-1), 1, 0],\n",
        "               [0, 0, 0, 0, 1, (-1), 0],\n",
        "               [0, 0, 0, 0, (-1), 0, 1],\n",
        "               [0, 0, 0, 0, (-1), 0, 1],\n",
        "               [0, 0, 0, 0, 0, 1, (-1)],\n",
        "               [0, 0, 0, 0, 0, 1, (-1)],\n",
        "               [0, 0, 0, 0, 0, 1, (-1)],\n",
        "               [0, 0, 0, 0, 0, 1, (-1)]])\n",
        "\n",
        "# create the vector for the right hand side:\n",
        "pts = np.matrix([[14], [12], [16], [15], [13], [15], [17],\n",
        "                 [5], [4], [4], [27], [7], [15], [19], \n",
        "                 [18], [3], [31], [8], [4], [15], [15], \n",
        "                 [23], [5], [38], [8], [25], [5], [7], \n",
        "                 [16], [17], [14], [5], [5],[5], [3], \n",
        "                 [13], [14]\n",
        "                ])\n",
        "\n",
        " \n",
        "#Make sure the system looks appropriate:\n",
        "print(np.c_[M,pts])"
      ],
      "execution_count": 9,
      "outputs": [
        {
          "output_type": "stream",
          "text": [
            "[[ 1  0  0  0 -1  0  0 14]\n",
            " [ 1 -1  0  0  0  0  0 12]\n",
            " [ 1  0  0  0  0  0 -1 16]\n",
            " [-1  0  0  1  0  0  0 15]\n",
            " [ 1  0  0  0 -1  0  0 13]\n",
            " [-1  0  1  0  0  0  0 15]\n",
            " [ 1  0  0  1  0  0 -1 17]\n",
            " [-1  0  0  1  0  0  0  5]\n",
            " [-1  0  0  0  0  1  0  4]\n",
            " [-1  0  1  0  0  0  0  4]\n",
            " [ 0 -1  0  1  0  0  0 27]\n",
            " [ 0  1 -1  0  0  0  0  7]\n",
            " [ 0 -1  1  0  0  0  0 15]\n",
            " [ 0 -1  0  0  0  1  0 19]\n",
            " [ 0  1  0  0 -1  0  0 18]\n",
            " [ 0  1  0  0  0 -1  0  3]\n",
            " [ 0 -1  0  1  0  0  0 31]\n",
            " [ 0 -1  0  0  0  0  1  8]\n",
            " [ 0 -1  0  0  1  0  0  4]\n",
            " [ 0  0  1  0  0 -1  0 15]\n",
            " [ 0  0  1  0  0  0 -1 15]\n",
            " [ 0  0  1  0  0  0 -1 23]\n",
            " [ 0  0 -1  1  0  0  0  5]\n",
            " [ 0  0  1  0 -1  0  0 38]\n",
            " [ 0  0  0  1  0 -1  0  8]\n",
            " [ 0  0  0  1  0  0 -1 25]\n",
            " [ 0  0  0  1 -1  0  0  5]\n",
            " [ 0  0  0  1  0  0 -1  7]\n",
            " [ 0  0  0  1 -1  0  0 16]\n",
            " [ 0  0  0  0 -1  1  0 17]\n",
            " [ 0  0  0  0  1 -1  0 14]\n",
            " [ 0  0  0  0 -1  0  1  5]\n",
            " [ 0  0  0  0 -1  0  1  5]\n",
            " [ 0  0  0  0  0  1 -1  5]\n",
            " [ 0  0  0  0  0  1 -1  3]\n",
            " [ 0  0  0  0  0  1 -1 13]\n",
            " [ 0  0  0  0  0  1 -1 14]]\n"
          ],
          "name": "stdout"
        }
      ]
    },
    {
      "cell_type": "code",
      "metadata": {
        "id": "TLLB3Ebe587M",
        "colab": {
          "base_uri": "https://localhost:8080/"
        },
        "outputId": "510aa35d-b007-463a-cf02-77c1a8b7e3bf"
      },
      "source": [
        "# Generate the transpose of M:\n",
        "MT = M.transpose()\n",
        "\n",
        "print(\"The Transpose of M is:\")\n",
        "print(MT)\n",
        "\n",
        "# and find MT*M and MT*pts:\n",
        "print(\"\\n\")\n",
        "print(\"MT * M is: \")\n",
        "MTM = MT * M\n",
        "print(MTM)\n",
        "\n",
        "print(\"\\n\")\n",
        "print(\"MT * pts is:\")\n",
        "MTpts = MT * pts\n",
        "print(MTpts)\n"
      ],
      "execution_count": 12,
      "outputs": [
        {
          "output_type": "stream",
          "text": [
            "The Transpose of M is:\n",
            "[[ 1  1  1 -1  1 -1  1 -1 -1 -1  0  0  0  0  0  0  0  0  0  0  0  0  0  0\n",
            "   0  0  0  0  0  0  0  0  0  0  0  0  0]\n",
            " [ 0 -1  0  0  0  0  0  0  0  0 -1  1 -1 -1  1  1 -1 -1 -1  0  0  0  0  0\n",
            "   0  0  0  0  0  0  0  0  0  0  0  0  0]\n",
            " [ 0  0  0  0  0  1  0  0  0  1  0 -1  1  0  0  0  0  0  0  1  1  1 -1  1\n",
            "   0  0  0  0  0  0  0  0  0  0  0  0  0]\n",
            " [ 0  0  0  1  0  0  1  1  0  0  1  0  0  0  0  0  1  0  0  0  0  0  1  0\n",
            "   1  1  1  1  1  0  0  0  0  0  0  0  0]\n",
            " [-1  0  0  0 -1  0  0  0  0  0  0  0  0  0 -1  0  0  0  1  0  0  0  0 -1\n",
            "   0  0 -1  0 -1 -1  1 -1 -1  0  0  0  0]\n",
            " [ 0  0  0  0  0  0  0  0  1  0  0  0  0  1  0 -1  0  0  0 -1  0  0  0  0\n",
            "  -1  0  0  0  0  1 -1  0  0  1  1  1  1]\n",
            " [ 0  0 -1  0  0  0 -1  0  0  0  0  0  0  0  0  0  0  1  0  0 -1 -1  0  0\n",
            "   0 -1  0 -1  0  0  0  1  1 -1 -1 -1 -1]]\n",
            "\n",
            "\n",
            "MT * M is: \n",
            "[[10 -1 -2 -1 -2 -1 -2]\n",
            " [-1 10 -2 -2 -2 -2 -1]\n",
            " [-2 -2  9 -1 -1 -1 -2]\n",
            " [-1 -2 -1 11 -2 -1 -3]\n",
            " [-2 -2 -1 -2 11 -2 -2]\n",
            " [-1 -2 -1 -1 -2 11 -4]\n",
            " [-2 -1 -2 -3 -2 -4 13]]\n",
            "\n",
            "\n",
            "MT * pts is:\n",
            "[[  29]\n",
            " [ -88]\n",
            " [ 113]\n",
            " [ 161]\n",
            " [-113]\n",
            " [  35]\n",
            " [-120]]\n"
          ],
          "name": "stdout"
        }
      ]
    },
    {
      "cell_type": "code",
      "metadata": {
        "id": "VXqKSDj06BVa",
        "colab": {
          "base_uri": "https://localhost:8080/"
        },
        "outputId": "2d2610a5-83c6-429a-d7fd-58560c13f394"
      },
      "source": [
        "#  Check if MTM is singular\n",
        "is_singular(MT*M)"
      ],
      "execution_count": 11,
      "outputs": [
        {
          "output_type": "execute_result",
          "data": {
            "text/plain": [
              "False"
            ]
          },
          "metadata": {
            "tags": []
          },
          "execution_count": 11
        }
      ]
    },
    {
      "cell_type": "code",
      "metadata": {
        "id": "5E2eXRT76MQh",
        "colab": {
          "base_uri": "https://localhost:8080/"
        },
        "outputId": "b51d2dbd-1235-42d6-cd19-93dd76db3fb5"
      },
      "source": [
        "# Careful - you might not need to do this!  \n",
        "# Be sure to check whether MTM is singular on the previous line.\n",
        "\n",
        "# If MTM is singular, then adjust one row of MTM and MT pts to be just 1's:\n",
        "\n",
        "#MTM[3] is the entire 4th row of MTM, \n",
        "#so MTM[3] = 1 will put 1's in MTM's 4th row.\n",
        "\n",
        "MTM[3] = 1\n",
        "MTpts[3] = 1\n",
        "\n",
        "print(\"MTM is now: \")\n",
        "print(MTM)\n",
        "\n",
        "print(\"and MTpts is now:\")\n",
        "print(MTpts)\n",
        "\n",
        "print(\"Is our modified MTM singular?\")\n",
        "is_singular(MTM)"
      ],
      "execution_count": null,
      "outputs": [
        {
          "output_type": "stream",
          "text": [
            "MTM is now: \n",
            "[[10 -1 -2 -1 -2 -1 -2]\n",
            " [-1 10 -2 -2 -2 -2 -1]\n",
            " [-2 -2  9 -1 -1 -1 -2]\n",
            " [ 1  1  1  1  1  1  1]\n",
            " [-2 -2 -1 -2 11 -2 -2]\n",
            " [-1 -2 -1 -1 -2 11 -4]\n",
            " [-2 -1 -2 -3 -2 -4 13]]\n",
            "and MTpts is now:\n",
            "[[ 115]\n",
            " [ 120]\n",
            " [  55]\n",
            " [   1]\n",
            " [ -67]\n",
            " [ -73]\n",
            " [-128]]\n",
            "Is our modified MTM singular?\n"
          ],
          "name": "stdout"
        },
        {
          "output_type": "execute_result",
          "data": {
            "text/plain": [
              "False"
            ]
          },
          "metadata": {
            "tags": []
          },
          "execution_count": 15
        }
      ]
    },
    {
      "cell_type": "code",
      "metadata": {
        "id": "UkDKmNba6YHi",
        "colab": {
          "base_uri": "https://localhost:8080/"
        },
        "outputId": "0ab32ce0-876b-406f-bfc7-391016e039b0"
      },
      "source": [
        "#Find our solution using the inverse of MTM:\n",
        "\n",
        "#First, find the inverse of MTM:\n",
        "MTMI = np.linalg.inv(MTM)\n",
        "\n",
        "print(\"The inverse of MTM is:\")\n",
        "print(MTMI)\n",
        "\n",
        "#Now, use the inverse of MTM to solve for the rankings:\n",
        "\n",
        "print(\"\\n\")\n",
        "print(\"The solution are rankings:\")\n",
        "MTMI * MTpts"
      ],
      "execution_count": 14,
      "outputs": [
        {
          "output_type": "stream",
          "text": [
            "The inverse of MTM is:\n",
            "[[1.16036928 1.16275249 1.17448344 1.08297277 1.16786598 1.1865846\n",
            "  1.24334205]\n",
            " [1.16275249 1.35679009 1.27630852 1.18486468 1.27042633 1.29716611\n",
            "  1.34761717]\n",
            " [1.17448344 1.27630852 1.37299439 1.18155595 1.26717159 1.29455923\n",
            "  1.3560394 ]\n",
            " [1.08297277 1.18486468 1.18155595 1.18172563 1.18342241 1.20378383\n",
            "  1.2646984 ]\n",
            " [1.16786598 1.27042633 1.26717159 1.18342241 1.34593067 1.29602978\n",
            "  1.3512884 ]\n",
            " [1.1865846  1.29716611 1.29455923 1.20378383 1.29602978 1.4029812\n",
            "  1.39036843]\n",
            " [1.24334205 1.34761717 1.3560394  1.2646984  1.3512884  1.39036843\n",
            "  1.50804045]]\n",
            "\n",
            "\n",
            "The solution are rankings:\n"
          ],
          "name": "stdout"
        },
        {
          "output_type": "execute_result",
          "data": {
            "text/plain": [
              "matrix([[ -1.23570652],\n",
              "        [-10.56305226],\n",
              "        [  6.51820059],\n",
              "        [  7.55366081],\n",
              "        [-13.09173692],\n",
              "        [ -3.83650966],\n",
              "        [-10.68204571]])"
            ]
          },
          "metadata": {
            "tags": []
          },
          "execution_count": 14
        }
      ]
    }
  ]
}