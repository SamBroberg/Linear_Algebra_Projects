{
  "nbformat": 4,
  "nbformat_minor": 0,
  "metadata": {
    "colab": {
      "name": "Untitled0.ipynb",
      "provenance": [],
      "authorship_tag": "ABX9TyNHK+SRl1EJ+HwgIOce4izL",
      "include_colab_link": true
    },
    "kernelspec": {
      "name": "python3",
      "display_name": "Python 3"
    }
  },
  "cells": [
    {
      "cell_type": "markdown",
      "metadata": {
        "id": "view-in-github",
        "colab_type": "text"
      },
      "source": [
        "<a href=\"https://colab.research.google.com/github/SamBroberg/Linear_Algebra_Projects/blob/main/solving_systems_using_computation_and_rref.ipynb\" target=\"_parent\"><img src=\"https://colab.research.google.com/assets/colab-badge.svg\" alt=\"Open In Colab\"/></a>"
      ]
    },
    {
      "cell_type": "markdown",
      "metadata": {
        "id": "3BBJUxoj69oH"
      },
      "source": [
        "# Load the preliminary code"
      ]
    },
    {
      "cell_type": "code",
      "metadata": {
        "id": "BJlW3SS11dn9"
      },
      "source": [
        "import numpy as np\r\n",
        "from numpy import c_\r\n",
        "\r\n",
        "ll = \"loaded\""
      ],
      "execution_count": 5,
      "outputs": []
    },
    {
      "cell_type": "code",
      "metadata": {
        "colab": {
          "base_uri": "https://localhost:8080/"
        },
        "id": "-LvBFbtl193U",
        "outputId": "2a4750a7-131a-44a2-b313-11ddd1517d74"
      },
      "source": [
        "lll = \" correctly!\"\r\n",
        "\r\n",
        "def rref(matrix):\r\n",
        "    A = np.array(matrix, dtype=np.float64)\r\n",
        "    \r\n",
        "    r = 0 #row\r\n",
        "    c = 0 #column\r\n",
        "\r\n",
        "    (maxr, maxc) = A.shape\r\n",
        "\r\n",
        "    prev_row_pivot = -1   # The previous row with a leading term:\r\n",
        "    tmp_pivot_row = -1\r\n",
        "    this_pivot_row = -1\r\n",
        "\r\n",
        "    for c in range(maxc):  # go through each column\r\n",
        "      tmp_pivot_row = -1  # reset the tmp pivot row\r\n",
        "      this_pivot_row = -1  # reset this pivot row\r\n",
        "      for r in range(maxr):  # Find the leading term in this column below prev_row_pivot\r\n",
        "        if ((r > prev_row_pivot) and (A[r][c] != 0.0)):\r\n",
        "          tmp_pivot_row = r  # find the new pivot row\r\n",
        "      if (tmp_pivot_row > -1):  # we found a candidate for the leading term:\r\n",
        "        #swap row this_pivot_row with (prev_row_pivot + 1)\r\n",
        "        A[[tmp_pivot_row, prev_row_pivot+1]] = A[[prev_row_pivot + 1, tmp_pivot_row]]\r\n",
        "        #set this_pivot_row to prev_row_pivot+1\r\n",
        "        this_pivot_row = prev_row_pivot + 1\r\n",
        "        #Now, normalize the row based on the pivot value:\r\n",
        "        A[ this_pivot_row ] = A[ this_pivot_row ] / A[ this_pivot_row ][c]\r\n",
        "        #Then, use this row to force 0's above and below the pivot entry:\r\n",
        "        #subtract multiples of of the this_pivot_row row from the others\r\n",
        "        for r_ in range(len(A)):\r\n",
        "            if r_ != this_pivot_row:\r\n",
        "                A[r_] = A[r_] - A[this_pivot_row] * A[r_][c] / A[this_pivot_row][c]\r\n",
        "        prev_row_pivot = this_pivot_row\r\n",
        "    return A\r\n",
        "\r\n",
        "\r\n",
        "print(\">> The page \", ll, lll)"
      ],
      "execution_count": 6,
      "outputs": [
        {
          "output_type": "stream",
          "text": [
            ">> The page  loaded  correctly!\n"
          ],
          "name": "stdout"
        }
      ]
    },
    {
      "cell_type": "markdown",
      "metadata": {
        "id": "AtqDKn0r2PxF"
      },
      "source": [
        "\r\n",
        "## **Solving Systems using Computation: An Overview**\r\n",
        "Suppose we wanted to solve a system like:\r\n"
      ]
    },
    {
      "cell_type": "markdown",
      "metadata": {
        "id": "LkiyyNEH3oCP"
      },
      "source": [
        "Suppose we wanted to solve a system like:\r\n",
        "\r\n",
        "$$\r\n",
        "\\left\\{ \\begin{array}{rcr} 5x + 6y + 2z & = & -1\\\\ 4x + 7y + 19 z & = & 2 \\\\ 3y + 12z & = & 1 \\\\ \\end{array} \\right.\r\n",
        "$$\r\n",
        "\r\n",
        "First, we create a matrix $A$ to represent the matrix on matrix on the left.  We'll also create a column matrix, or vector, to represent the numbers on the right hand side.  We'll call that vector $\\vec{b}$:"
      ]
    },
    {
      "cell_type": "code",
      "metadata": {
        "id": "W1b2XNJg1-FW"
      },
      "source": [
        "# create the matrix:\r\n",
        "A = np.matrix([[5, 6, 2],\r\n",
        "               [4, 7, 19],\r\n",
        "               [0, 3, 12]])\r\n",
        "\r\n",
        "# create the vector for the right hand side:\r\n",
        "b = np.matrix([[-1], [2], [1]])"
      ],
      "execution_count": 7,
      "outputs": []
    },
    {
      "cell_type": "markdown",
      "metadata": {
        "id": "ehZn76DH5uU2"
      },
      "source": [
        "To verify that we have entered $A$ correctly, or $\\vec{b}$ correctly, simply call \r\n",
        "\r\n",
        "```\r\n",
        "print(A)\r\n",
        "```\r\n",
        "\r\n",
        " or \r\n",
        " \r\n",
        " \r\n",
        "\r\n",
        "```\r\n",
        "print(b)\r\n",
        "```\r\n",
        "\r\n",
        "and the system will display that element:\r\n",
        "\r\n"
      ]
    },
    {
      "cell_type": "code",
      "metadata": {
        "colab": {
          "base_uri": "https://localhost:8080/"
        },
        "id": "waXL6umH1-Mw",
        "outputId": "63a491a2-0f83-4cc6-aa19-d1912d53db14"
      },
      "source": [
        "print(A)"
      ],
      "execution_count": 8,
      "outputs": [
        {
          "output_type": "stream",
          "text": [
            "[[ 5  6  2]\n",
            " [ 4  7 19]\n",
            " [ 0  3 12]]\n"
          ],
          "name": "stdout"
        }
      ]
    },
    {
      "cell_type": "markdown",
      "metadata": {
        "id": "qbSQfjr_5gLX"
      },
      "source": [
        "We want to solve the augmented matrix  $\\left( A \\, | \\, \\vec{b} \\right)$, so we need to create an augmented matrix.  We use:\r\n",
        "\r\n",
        "```\r\n",
        " np.c_(A, b)\r\n",
        "```\r\n",
        "to create the augmented matrix by putting the $\\vec{b}$ vector on the right of the $A$ matrix.  We'll save this new matrix as $M$:"
      ]
    },
    {
      "cell_type": "code",
      "metadata": {
        "colab": {
          "base_uri": "https://localhost:8080/"
        },
        "id": "YrguA8J31-PP",
        "outputId": "bb333fe4-2c1a-45e7-b311-e310eaa16c61"
      },
      "source": [
        "M = np.c_[A,b]\r\n",
        "print(M)"
      ],
      "execution_count": 9,
      "outputs": [
        {
          "output_type": "stream",
          "text": [
            "[[ 5  6  2 -1]\n",
            " [ 4  7 19  2]\n",
            " [ 0  3 12  1]]\n"
          ],
          "name": "stdout"
        }
      ]
    },
    {
      "cell_type": "markdown",
      "metadata": {
        "id": "IHlcNlv55bbo"
      },
      "source": [
        "Lastly, we'll use te function \r\n",
        "\r\n",
        "```\r\n",
        "rref(M)\r\n",
        "```\r\n",
        "\r\n",
        "to provide the reduced row echelon form of the matrix $M$.  Let's print out the result:\r\n"
      ]
    },
    {
      "cell_type": "code",
      "metadata": {
        "colab": {
          "base_uri": "https://localhost:8080/"
        },
        "id": "H9hzzwob2uK_",
        "outputId": "5860dadc-4230-4b48-8b76-b5dd0b16fb8d"
      },
      "source": [
        " print(rref(M))"
      ],
      "execution_count": 11,
      "outputs": [
        {
          "output_type": "stream",
          "text": [
            "[[ 1.          0.          0.          0.45736434]\n",
            " [ 0.          1.          0.         -0.62790698]\n",
            " [-0.         -0.          1.          0.24031008]]\n"
          ],
          "name": "stdout"
        }
      ]
    },
    {
      "cell_type": "markdown",
      "metadata": {
        "id": "gSkEDqEv27ex"
      },
      "source": [
        "\r\n",
        "# Use Computation to check prior homework"
      ]
    },
    {
      "cell_type": "markdown",
      "metadata": {
        "id": "rMlHvPEv48c4"
      },
      "source": [
        "We'll use Google Colab to check our solutions to the six systems below, which we solved previously using row operations:\r\n",
        "\r\n",
        "$$\r\n",
        "(a) \\hspace{.5cm}\r\n",
        "\\left\\{ \\begin{array}{rcr} 2x + 2y & = & 5 \\\\ x - 4y & = & 0 \\\\ \\end{array} \\right.\r\n",
        "\\hspace{1cm}\r\n",
        "(b) \\hspace{.5cm}\r\n",
        "\\left\\{ \\begin{array}{rcr} -x + y &=& 1 \\\\ x + y &=& 2 \\\\ \\end{array}\r\n",
        "\\right.\r\n",
        "\\hspace{1cm}\r\n",
        "(c) \\hspace{.5cm}\r\n",
        "\\left\\{ \\begin{array}{rcr} x - 3y + z & = 1 \\\\ x + y + 2z & = & 14 \\\\ \\end{array}\r\n",
        "\\right.\r\n",
        "\\hspace{1cm}\r\n",
        "(d) \\hspace{.5cm}\r\n",
        "\\left\\{ \\begin{array}{rcr} -x - y &=& 1 \\\\ -3x -3 y &=& 2 \\\\ \\end{array}\r\n",
        "\\right.\r\n",
        "$$\r\n",
        "\r\n",
        "\r\n",
        "$$\r\n",
        "(e) \\hspace{.5cm}\r\n",
        "\\left\\{ \\begin{array}{rcr} 4y + z & = & 20 \\\\ 2x - 2y + z & = & 0 \\\\ x + z & = & 5 \\\\ x + y - z & = & 10 \\\\ \\end{array} \\right.\r\n",
        "\\hspace{1cm}\r\n",
        "(f) \\hspace{.5cm}\r\n",
        "\\left\\{ \\begin{array}{rcr} 2x + z + w & = & 5 \\\\ y - w & = & -1 \\\\ 3x - z - w & = & 0 \\\\ 4x + y + 2z + w & = & 9 \\\\ \\end{array}\r\n",
        "\\right.\r\n",
        "$$\r\n",
        "\r\n"
      ]
    },
    {
      "cell_type": "markdown",
      "metadata": {
        "id": "5B54obGt5Qn3"
      },
      "source": [
        "The main steps are to:\r\n",
        "\r\n",
        "1) Create the matrix $A$ and column vector $\\vec{b}$ for the system using\r\n",
        "\r\n",
        "\r\n",
        "\r\n",
        "```\r\n",
        "# create the matrix:\r\n",
        "A = np.matrix([[5, 6, 2],\r\n",
        "               [4, 7, 19],\r\n",
        "               [0, 3, 12]])\r\n",
        "\r\n",
        "# create the vector for the right hand side:\r\n",
        "b = np.matrix([[-1], [2], [1]])\r\n",
        "```\r\n",
        "\r\n",
        "\r\n",
        "2) Create the augmented matrix $\\left( A \\, | \\, \\vec{b} \\right)$ using\r\n",
        "\r\n",
        "\r\n",
        "\r\n",
        "```\r\n",
        "M = np.c_[A,b]\r\n",
        "```\r\n",
        "\r\n",
        "3)  Display the reduced row echelon form of $M$ using\r\n",
        "\r\n",
        "\r\n",
        "\r\n",
        "```\r\n",
        "print(rref(M))\r\n",
        "```\r\n",
        "\r\n",
        "You'll do this for each of the six systems of equations from the homework:"
      ]
    },
    {
      "cell_type": "markdown",
      "metadata": {
        "id": "UBkX5AaO56yf"
      },
      "source": [
        "$$\r\n",
        "(a) \\hspace{.5cm}\r\n",
        "\\left\\{ \\begin{array}{rcr} 2x + 2y & = & 5 \\\\ x - 4y & = & 0 \\\\ \\end{array} \\right.\r\n",
        "$$"
      ]
    },
    {
      "cell_type": "code",
      "metadata": {
        "id": "RI3uUsCG6Oew"
      },
      "source": [
        ""
      ],
      "execution_count": null,
      "outputs": []
    },
    {
      "cell_type": "markdown",
      "metadata": {
        "id": "4TMmICbX6JVF"
      },
      "source": [
        "$$\r\n",
        "(b) \\hspace{.5cm}\r\n",
        "\\left\\{ \\begin{array}{rcr} -x + y &=& 1 \\\\ x + y &=& 2 \\\\ \\end{array}\r\n",
        "\\right.\r\n",
        "$$"
      ]
    },
    {
      "cell_type": "code",
      "metadata": {
        "id": "WxE17IH56Ph9"
      },
      "source": [
        ""
      ],
      "execution_count": null,
      "outputs": []
    },
    {
      "cell_type": "markdown",
      "metadata": {
        "id": "5dkURgen6J3Z"
      },
      "source": [
        "$$\r\n",
        "(c) \\hspace{.5cm}\r\n",
        "\\left\\{ \\begin{array}{rcr} x - 3y + z & = 1 \\\\ x + y + 2z & = & 14 \\\\ \\end{array}\r\n",
        "\\right.\r\n",
        "$$"
      ]
    },
    {
      "cell_type": "code",
      "metadata": {
        "id": "dm8obO0J6oK-"
      },
      "source": [
        ""
      ],
      "execution_count": null,
      "outputs": []
    },
    {
      "cell_type": "markdown",
      "metadata": {
        "id": "j-39favV6KnP"
      },
      "source": [
        "$$\r\n",
        "(d) \\hspace{.5cm}\r\n",
        "\\left\\{ \\begin{array}{rcr} -x - y &=& 1 \\\\ -3x -3 y &=& 2 \\\\ \\end{array}\r\n",
        "\\right.\r\n",
        "$$"
      ]
    },
    {
      "cell_type": "code",
      "metadata": {
        "id": "zbOyxBVk2uQp"
      },
      "source": [
        ""
      ],
      "execution_count": 4,
      "outputs": []
    },
    {
      "cell_type": "markdown",
      "metadata": {
        "id": "Lzqz5rJF6uOV"
      },
      "source": [
        "$$\r\n",
        "(e) \\hspace{.5cm}\r\n",
        "\\left\\{ \\begin{array}{rcr} 4y + z & = & 20 \\\\ 2x - 2y + z & = & 0 \\\\ x + z & = & 5 \\\\ x + y - z & = & 10 \\\\ \\end{array} \\right.\r\n",
        "$$"
      ]
    },
    {
      "cell_type": "code",
      "metadata": {
        "id": "XH-FTxlI6tQ5"
      },
      "source": [
        ""
      ],
      "execution_count": null,
      "outputs": []
    },
    {
      "cell_type": "markdown",
      "metadata": {
        "id": "L77Jp0246zLj"
      },
      "source": [
        "$$\r\n",
        "(f) \\hspace{.5cm}\r\n",
        "\\left\\{ \\begin{array}{rcr} 2x + z + w & = & 5 \\\\ y - w & = & -1 \\\\ 3x - z - w & = & 0 \\\\ 4x + y + 2z + w & = & 9 \\\\ \\end{array}\r\n",
        "\\right.\r\n",
        "$$"
      ]
    },
    {
      "cell_type": "code",
      "metadata": {
        "id": "c6Kq3E1L2uS9"
      },
      "source": [
        ""
      ],
      "execution_count": 4,
      "outputs": []
    },
    {
      "cell_type": "code",
      "metadata": {
        "id": "FDCKrAmx2ubT"
      },
      "source": [
        ""
      ],
      "execution_count": 4,
      "outputs": []
    },
    {
      "cell_type": "code",
      "metadata": {
        "id": "p_-Tfpru2uiH"
      },
      "source": [
        ""
      ],
      "execution_count": null,
      "outputs": []
    }
  ]
}